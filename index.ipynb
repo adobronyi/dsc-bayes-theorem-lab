{
 "cells": [
  {
   "cell_type": "markdown",
   "metadata": {},
   "source": [
    "# Bayes' Theorem - Lab\n",
    "\n",
    "## Introduction\n",
    "\n",
    "In this lab, you'll practice Bayes' Theorem in some simple word problems. \n",
    "\n",
    "## Objectives\n",
    "In this lab you will be able to: \n",
    "\n",
    "- Use Bayes' theorem to determine the probability of specific events "
   ]
  },
  {
   "cell_type": "markdown",
   "metadata": {},
   "source": [
    "## Define a custom function for Bayes' theorem\n",
    "\n",
    "To start, write a function, `bayes()`, which takes in the probability of A, the probability of B, and the probability of B given A. From this, the function should then return the conditional probability of A, given that B is true."
   ]
  },
  {
   "cell_type": "code",
   "execution_count": 1,
   "metadata": {},
   "outputs": [],
   "source": [
    "def bayes(P_a, P_b, P_b_given_a):\n",
    "    \n",
    "    P_a_given_b = (P_b_given_a * P_a)/P_b\n",
    "    \n",
    "    \n",
    "    return P_a_given_b"
   ]
  },
  {
   "cell_type": "markdown",
   "metadata": {},
   "source": [
    "## Skin Cancer\n",
    "\n",
    "After a physical exam, a doctor observes a blemish on a client's arm. The doctor is concerned that the blemish could be cancerous, but tells the patient to be calm and that it's probably benign. Of those with skin cancer, 100% have such blemishes. However, 20% of those without skin cancer also have such blemishes. If 15% of the population has skin cancer, what's the probability that this patient has skin cancer? \n",
    "\n",
    "> Hint: Be sure to calculate the overall rate of blemishes across the entire population."
   ]
  },
  {
   "cell_type": "code",
   "execution_count": 3,
   "metadata": {},
   "outputs": [
    {
     "data": {
      "text/plain": [
       "0.46875"
      ]
     },
     "execution_count": 3,
     "metadata": {},
     "output_type": "execute_result"
    }
   ],
   "source": [
    "# need to determine: P_sc_given_blemish\n",
    "# inputs: P_sc, P_blemish, P_blemish_given_sc\n",
    "\n",
    "P_sc = 0.15\n",
    "P_blemish_given_sc = 1\n",
    "\n",
    "# P_blemish = P_blemish_given_sc * P_sc + P_blemish_given_nosc * P_nosc\n",
    "P_blemish = (P_blemish_given_sc * P_sc) + (0.20 * 0.85)\n",
    "\n",
    "P_sc_given_blemish = bayes(P_sc,P_blemish,P_blemish_given_sc)\n",
    "P_sc_given_blemish"
   ]
  },
  {
   "cell_type": "markdown",
   "metadata": {},
   "source": [
    "## Children (I) \n",
    "\n",
    "A couple has two children, the older of which is a boy. What is the probability that they have two boys?"
   ]
  },
  {
   "cell_type": "code",
   "execution_count": 5,
   "metadata": {},
   "outputs": [
    {
     "data": {
      "text/plain": [
       "0.5"
      ]
     },
     "execution_count": 5,
     "metadata": {},
     "output_type": "execute_result"
    }
   ],
   "source": [
    "# need to determine: P(2 boys|older child is a boy)\n",
    "P_2boys = 0.5 * 0.5\n",
    "P_older_child_boy = 0.5\n",
    "P_older_child_boy_given_2boys = 1\n",
    "\n",
    "P_2boys_given_olderboy = bayes(P_2boys,P_older_child_boy,P_older_child_boy_given_2boys)\n",
    "P_2boys_given_olderboy"
   ]
  },
  {
   "cell_type": "markdown",
   "metadata": {},
   "source": [
    "## Children  (II)\n",
    "\n",
    "A couple has two children, one of which is a boy. What is the probability that they have two boys?"
   ]
  },
  {
   "cell_type": "code",
   "execution_count": 6,
   "metadata": {},
   "outputs": [
    {
     "data": {
      "text/plain": [
       "0.3333333333333333"
      ]
     },
     "execution_count": 6,
     "metadata": {},
     "output_type": "execute_result"
    }
   ],
   "source": [
    "# need to determine: P(2boys|1 of 2 children is a boy)\n",
    "P_a = 0.5 * 0.5\n",
    "P_b = 0.5*0.5 + 0.5*1\n",
    "P_b_given_a = 1\n",
    "\n",
    "p_a_given_b = bayes(P_a,P_b,P_b_given_a)\n",
    "p_a_given_b"
   ]
  },
  {
   "cell_type": "markdown",
   "metadata": {},
   "source": [
    "## A diagnostic test\n",
    "\n",
    "A diagnostic test is advertised as being 99% accurate \n",
    "\n",
    "* If a patient has the disease, they  will test positive 99% of the time \n",
    "\n",
    "* If they don't have the disease, they will test negative 99% of the time  \n",
    "\n",
    "* 1% of all people have this disease \n",
    "\n",
    "If a patient tests positive, what is the probability that they actually have the disease?"
   ]
  },
  {
   "cell_type": "code",
   "execution_count": 8,
   "metadata": {},
   "outputs": [
    {
     "data": {
      "text/plain": [
       "0.4999999999999997"
      ]
     },
     "execution_count": 8,
     "metadata": {},
     "output_type": "execute_result"
    }
   ],
   "source": [
    "# need to determine: P(Disease | positive test)\n",
    "P_disease = 0.01\n",
    "P_positive = .99 * P_disease + (1-0.99) * (1-0.01)\n",
    "P_positive_given_disease = 0.99\n",
    "\n",
    "P_disease_given_positive = bayes(P_disease,P_positive,P_positive_given_disease)\n",
    "P_disease_given_positive"
   ]
  },
  {
   "cell_type": "markdown",
   "metadata": {},
   "source": [
    "## Summary \n",
    "\n",
    "In this lab, you practiced a few simple examples of Bayesian logic and how you can add prior information to update your beliefs about the chance of events."
   ]
  }
 ],
 "metadata": {
  "kernelspec": {
   "display_name": "Python 3",
   "language": "python",
   "name": "python3"
  },
  "language_info": {
   "codemirror_mode": {
    "name": "ipython",
    "version": 3
   },
   "file_extension": ".py",
   "mimetype": "text/x-python",
   "name": "python",
   "nbconvert_exporter": "python",
   "pygments_lexer": "ipython3",
   "version": "3.8.5"
  }
 },
 "nbformat": 4,
 "nbformat_minor": 2
}
